{
 "cells": [
  {
   "cell_type": "markdown",
   "id": "9cf9fd2f",
   "metadata": {},
   "source": [
    "# Assignment: Probability, Bayesian Probability, and Gradient Descent\n",
    "_Group 6_\n",
    "\n",
    "### Group Members\n",
    "- David Akintayo: Probability Distributions  \n",
    "- Cynthia Mutie: Bayesian Probability  \n",
    "- Sougnabe Payang: Manual Gradient Descent  \n",
    "- Elvis Kayonga: Linear Regression with SciPy \n",
    "\n",
    "## Part 0 — Data Setup\n",
    "Load and explore the dataset to be used across all sections.\n"
   ]
  },
  {
   "cell_type": "code",
   "execution_count": 2,
   "id": "55d9b459",
   "metadata": {},
   "outputs": [
    {
     "data": {
      "text/html": [
       "<div>\n",
       "<style scoped>\n",
       "    .dataframe tbody tr th:only-of-type {\n",
       "        vertical-align: middle;\n",
       "    }\n",
       "\n",
       "    .dataframe tbody tr th {\n",
       "        vertical-align: top;\n",
       "    }\n",
       "\n",
       "    .dataframe thead th {\n",
       "        text-align: right;\n",
       "    }\n",
       "</style>\n",
       "<table border=\"1\" class=\"dataframe\">\n",
       "  <thead>\n",
       "    <tr style=\"text-align: right;\">\n",
       "      <th></th>\n",
       "      <th>sepal_length</th>\n",
       "      <th>sepal_width</th>\n",
       "      <th>petal_length</th>\n",
       "      <th>petal_width</th>\n",
       "      <th>species</th>\n",
       "    </tr>\n",
       "  </thead>\n",
       "  <tbody>\n",
       "    <tr>\n",
       "      <th>0</th>\n",
       "      <td>5.1</td>\n",
       "      <td>3.5</td>\n",
       "      <td>1.4</td>\n",
       "      <td>0.2</td>\n",
       "      <td>Iris-setosa</td>\n",
       "    </tr>\n",
       "    <tr>\n",
       "      <th>1</th>\n",
       "      <td>4.9</td>\n",
       "      <td>3.0</td>\n",
       "      <td>1.4</td>\n",
       "      <td>0.2</td>\n",
       "      <td>Iris-setosa</td>\n",
       "    </tr>\n",
       "    <tr>\n",
       "      <th>2</th>\n",
       "      <td>4.7</td>\n",
       "      <td>3.2</td>\n",
       "      <td>1.3</td>\n",
       "      <td>0.2</td>\n",
       "      <td>Iris-setosa</td>\n",
       "    </tr>\n",
       "    <tr>\n",
       "      <th>3</th>\n",
       "      <td>4.6</td>\n",
       "      <td>3.1</td>\n",
       "      <td>1.5</td>\n",
       "      <td>0.2</td>\n",
       "      <td>Iris-setosa</td>\n",
       "    </tr>\n",
       "    <tr>\n",
       "      <th>4</th>\n",
       "      <td>5.0</td>\n",
       "      <td>3.6</td>\n",
       "      <td>1.4</td>\n",
       "      <td>0.2</td>\n",
       "      <td>Iris-setosa</td>\n",
       "    </tr>\n",
       "  </tbody>\n",
       "</table>\n",
       "</div>"
      ],
      "text/plain": [
       "   sepal_length  sepal_width  petal_length  petal_width      species\n",
       "0           5.1          3.5           1.4          0.2  Iris-setosa\n",
       "1           4.9          3.0           1.4          0.2  Iris-setosa\n",
       "2           4.7          3.2           1.3          0.2  Iris-setosa\n",
       "3           4.6          3.1           1.5          0.2  Iris-setosa\n",
       "4           5.0          3.6           1.4          0.2  Iris-setosa"
      ]
     },
     "execution_count": 2,
     "metadata": {},
     "output_type": "execute_result"
    }
   ],
   "source": [
    "import pandas as pd\n",
    "\n",
    "# Name the columns so we understand the data\n",
    "col_names = [\"sepal_length\", \"sepal_width\", \"petal_length\", \"petal_width\", \"species\"]\n",
    "\n",
    "# Download the data from the internet and load it\n",
    "df = pd.read_csv(\n",
    "    \"https://archive.ics.uci.edu/ml/machine-learning-databases/iris/iris.data\",\n",
    "    header=None, names=col_names\n",
    ")\n",
    "\n",
    "# Show the first 5 rows\n",
    "df.head()\n"
   ]
  },
  {
   "cell_type": "markdown",
   "id": "4ec21c04",
   "metadata": {},
   "source": [
    "## Part 1 — Probability Distributions (David Akintayo)\n",
    "\n",
    "Implement and compare key **probability distributions** using the Iris dataset.  \n",
    "Tasks:\n",
    "- Compute and visualize probability distributions (e.g., Normal, Uniform, Exponential).  \n",
    "- Plot histograms and fit curves for each feature.  \n",
    "- Analyze which distribution best fits each variable.\n"
   ]
  },
  {
   "cell_type": "markdown",
   "id": "5c9f9873",
   "metadata": {},
   "source": [
    "## Part 2 — Bayesian Probability (Cynthia Mutie)\n",
    "Dataset: IMDb Movie Reviews (50k) — file in repo: `data/IMDB Dataset.csv`\n",
    "\n",
    "Objective: For chosen keywords compute:\n",
    "- Prior: P(Positive)\n",
    "- Likelihood: P(keyword | Positive)\n",
    "- Marginal: P(keyword)\n",
    "- Posterior: P(Positive | keyword)\n",
    "\n",
    "We will compute P(Positive | keyword) using plain Python + pandas only.\n"
   ]
  },
  {
   "cell_type": "markdown",
   "id": "9145c261",
   "metadata": {},
   "source": [
    "## Part 3 — Manual Gradient Descent (Sougnabe Payang)\n",
    "\n",
    "Manually calculate the **gradient descent steps** for a simple cost function:  \n",
    "\\[\n",
    "J(m, b) = \\frac{1}{n}\\sum_{i=1}^n (y_i - (mx_i + b))^2\n",
    "\\]\n",
    "Tasks:\n",
    "- Derive partial derivatives of \\(J\\) with respect to \\(m\\) and \\(b\\).  \n",
    "- Implement manual gradient descent using loops.\n"
   ]
  },
  {
   "cell_type": "markdown",
   "id": "b500df3d",
   "metadata": {},
   "source": [
    "## Part 4 — Gradient Descent with SciPy (Elvis Kayonga)\n",
    "\n",
    "Use the **SciPy library** to perform linear regression using optimization tools.  \n",
    "Compare manual vs. automatic gradient descent results.\n"
   ]
  },
  {
   "cell_type": "markdown",
   "id": "d250a7ae",
   "metadata": {},
   "source": []
  },
  {
   "cell_type": "code",
   "execution_count": null,
   "id": "ac24e254",
   "metadata": {},
   "outputs": [],
   "source": []
  }
 ],
 "metadata": {
  "kernelspec": {
   "display_name": "Python 3",
   "language": "python",
   "name": "python3"
  },
  "language_info": {
   "codemirror_mode": {
    "name": "ipython",
    "version": 3
   },
   "file_extension": ".py",
   "mimetype": "text/x-python",
   "name": "python",
   "nbconvert_exporter": "python",
   "pygments_lexer": "ipython3",
   "version": "3.13.7"
  }
 },
 "nbformat": 4,
 "nbformat_minor": 5
}
